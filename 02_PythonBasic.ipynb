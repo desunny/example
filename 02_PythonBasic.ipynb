{
  "nbformat": 4,
  "nbformat_minor": 0,
  "metadata": {
    "colab": {
      "name": "02.PythonBasic.ipynb",
      "provenance": [],
      "collapsed_sections": [],
      "authorship_tag": "ABX9TyO4AMfnmpue7jWTFcS2G1BB",
      "include_colab_link": true
    },
    "kernelspec": {
      "name": "python3",
      "display_name": "Python 3"
    },
    "language_info": {
      "name": "python"
    }
  },
  "cells": [
    {
      "cell_type": "markdown",
      "metadata": {
        "id": "view-in-github",
        "colab_type": "text"
      },
      "source": [
        "<a href=\"https://colab.research.google.com/github/desunny/example/blob/main/02_PythonBasic.ipynb\" target=\"_parent\"><img src=\"https://colab.research.google.com/assets/colab-badge.svg\" alt=\"Open In Colab\"/></a>"
      ]
    },
    {
      "cell_type": "code",
      "metadata": {
        "colab": {
          "base_uri": "https://localhost:8080/"
        },
        "id": "xbPqh9lT8zIU",
        "outputId": "6a26ee86-30d4-407d-d41f-921e1dd90e31"
      },
      "source": [
        "# 파이썬 예약어(키워드) 리스트 확인하기 \n",
        "import keyword \n",
        "print(keyword.kwlist)"
      ],
      "execution_count": null,
      "outputs": [
        {
          "output_type": "stream",
          "text": [
            "['False', 'None', 'True', 'and', 'as', 'assert', 'async', 'await', 'break', 'class', 'continue', 'def', 'del', 'elif', 'else', 'except', 'finally', 'for', 'from', 'global', 'if', 'import', 'in', 'is', 'lambda', 'nonlocal', 'not', 'or', 'pass', 'raise', 'return', 'try', 'while', 'with', 'yield']\n"
          ],
          "name": "stdout"
        }
      ]
    },
    {
      "cell_type": "code",
      "metadata": {
        "colab": {
          "base_uri": "https://localhost:8080/"
        },
        "id": "SN7_nqW29Gbh",
        "outputId": "ea5d26ea-65dc-4f31-83b1-e10d03bb83d4"
      },
      "source": [
        "# 변수와 상수 \n",
        "a = 'hello'\n",
        "b = 1.2\n",
        "\n",
        "print(a)\n",
        "print(b)"
      ],
      "execution_count": null,
      "outputs": [
        {
          "output_type": "stream",
          "text": [
            "hello\n",
            "1.2\n"
          ],
          "name": "stdout"
        }
      ]
    },
    {
      "cell_type": "code",
      "metadata": {
        "colab": {
          "base_uri": "https://localhost:8080/"
        },
        "id": "2tN8Hl1OAOgz",
        "outputId": "730a7e75-ae0c-4e5b-e716-01323f575d7c"
      },
      "source": [
        "# 기본자료형 숫자\n",
        "c = 10\n",
        "d = 10.3\n",
        "\n",
        "print(type(c), type(d))"
      ],
      "execution_count": null,
      "outputs": [
        {
          "output_type": "stream",
          "text": [
            "<class 'int'> <class 'float'>\n"
          ],
          "name": "stdout"
        }
      ]
    },
    {
      "cell_type": "code",
      "metadata": {
        "colab": {
          "base_uri": "https://localhost:8080/"
        },
        "id": "yjr9tYyagQ65",
        "outputId": "b67e5049-8bcb-4017-e2b8-53b55eeaca19"
      },
      "source": [
        "# 기본자료형 문자 \n",
        "e = '문자열'\n",
        "f = \"문자열 값\"\n",
        "g = \"'이것이 문자다'\"\n",
        "\n",
        "\n",
        "print(e, f, g)"
      ],
      "execution_count": null,
      "outputs": [
        {
          "output_type": "stream",
          "text": [
            "문자열 문자열 값 '이것이 문자다'\n"
          ],
          "name": "stdout"
        }
      ]
    },
    {
      "cell_type": "code",
      "metadata": {
        "colab": {
          "base_uri": "https://localhost:8080/"
        },
        "id": "6ER54o8CgcKJ",
        "outputId": "f8311dcf-67be-4abd-98be-67aeaaca8e66"
      },
      "source": [
        "# 기본자료형 논리\n",
        "hungry = True\n",
        "sleepy = False\n",
        "print(type(hungry))\n",
        "print(not hungry)\n",
        "print(hungry and sleepy)\n",
        "print(hungry or sleepy)"
      ],
      "execution_count": null,
      "outputs": [
        {
          "output_type": "stream",
          "text": [
            "<class 'bool'>\n",
            "False\n",
            "False\n",
            "True\n"
          ],
          "name": "stdout"
        }
      ]
    },
    {
      "cell_type": "code",
      "metadata": {
        "colab": {
          "base_uri": "https://localhost:8080/"
        },
        "id": "JevVfP1emlIw",
        "outputId": "075967b3-1214-42e9-e92a-a07532bade87"
      },
      "source": [
        "# Sequences String(1)\n",
        "str = 'hello world'\n",
        "\n",
        "for i, chr in enumerate(str):\n",
        "  print(chr, i)\n",
        "  \n",
        "print(str[0], str[-1])  "
      ],
      "execution_count": null,
      "outputs": [
        {
          "output_type": "stream",
          "text": [
            "h 0\n",
            "e 1\n",
            "l 2\n",
            "l 3\n",
            "o 4\n",
            "  5\n",
            "w 6\n",
            "o 7\n",
            "r 8\n",
            "l 9\n",
            "d 10\n",
            "h d\n"
          ],
          "name": "stdout"
        }
      ]
    },
    {
      "cell_type": "code",
      "metadata": {
        "colab": {
          "base_uri": "https://localhost:8080/"
        },
        "id": "meA0ijJHuQdI",
        "outputId": "2a5d7e6f-befd-4457-eb60-f0bb97114808"
      },
      "source": [
        "# Sequences String(2)\n",
        "str = 'hello world'\n",
        "print (str[0:5])\n",
        "print (str[6:])\n",
        "print (str[1:-2])"
      ],
      "execution_count": null,
      "outputs": [
        {
          "output_type": "stream",
          "text": [
            "hello\n",
            "world\n",
            "ello wor\n"
          ],
          "name": "stdout"
        }
      ]
    },
    {
      "cell_type": "code",
      "metadata": {
        "colab": {
          "base_uri": "https://localhost:8080/"
        },
        "id": "Me8G2TglumPG",
        "outputId": "5163c11c-442c-4bd8-c30f-e08925a3c232"
      },
      "source": [
        "# Sequences Tuples\n",
        "\n",
        "t = (1, 'korea', 3, 5, 1)\n",
        "print(t)\n",
        "print(len(t))\n",
        "\n",
        "for i in t:\n",
        "  print(i)"
      ],
      "execution_count": null,
      "outputs": [
        {
          "output_type": "stream",
          "text": [
            "(1, 'korea', 3, 5, 1)\n",
            "5\n",
            "1\n",
            "korea\n",
            "3\n",
            "5\n",
            "1\n"
          ],
          "name": "stdout"
        }
      ]
    },
    {
      "cell_type": "code",
      "metadata": {
        "colab": {
          "base_uri": "https://localhost:8080/"
        },
        "id": "7Ug3qTE2y9tN",
        "outputId": "a3763b1b-e4ae-4729-e233-6884cfd63ed9"
      },
      "source": [
        "# Sequnces - 리스트 (1)\n",
        "a = [1, 3, 5, 'str', True]\n",
        "\n",
        "print(type(a))\n",
        "print(a[0])\n",
        "a.append('a')\n",
        "a.append(False)\n",
        "print(a)"
      ],
      "execution_count": null,
      "outputs": [
        {
          "output_type": "stream",
          "text": [
            "<class 'list'>\n",
            "1\n",
            "[1, 3, 5, 'str', True, 'a', False]\n"
          ],
          "name": "stdout"
        }
      ]
    },
    {
      "cell_type": "code",
      "metadata": {
        "colab": {
          "base_uri": "https://localhost:8080/"
        },
        "id": "iRDCTBh70FOM",
        "outputId": "44d5b464-ba95-423b-86ee-677d3f53dfa2"
      },
      "source": [
        "# Sequnces - 리스트 (2)\n",
        "\n",
        "b = [ '서울', '인천', '대전', '제주도']\n",
        "print(b.index('제주도'))\n",
        "print(b[0:2])\n",
        "del b[1]\n",
        "print(b)\n",
        "b.remove('제주도')\n",
        "print(b)"
      ],
      "execution_count": null,
      "outputs": [
        {
          "output_type": "stream",
          "text": [
            "3\n",
            "['서울', '인천']\n",
            "['서울', '대전', '제주도']\n",
            "['서울', '대전']\n"
          ],
          "name": "stdout"
        }
      ]
    },
    {
      "cell_type": "code",
      "metadata": {
        "colab": {
          "base_uri": "https://localhost:8080/"
        },
        "id": "uHXFa0U-0cgU",
        "outputId": "7a7c17af-39f5-48ab-ae94-25edf6b683b8"
      },
      "source": [
        "# Dictionary\n",
        "\n",
        "tel = {'홍길동':1234, '이순신':5678}\n",
        "# 추가 \n",
        "tel ['임꺽정'] = 3102\n",
        "print(tel)\n",
        "#순서가 없기 때문에 인ㄷ게스로 접근할 수 없고, 키로 접근 가능\n",
        "print(tel['홍길동'])\n",
        "#삭제\n",
        "del tel['홍길동']\n",
        "print(tel)\n",
        "print('이순신' in tel)\n",
        "\n",
        "print(tel.keys())\n"
      ],
      "execution_count": 1,
      "outputs": [
        {
          "output_type": "stream",
          "text": [
            "{'홍길동': 1234, '이순신': 5678, '임꺽정': 3102}\n",
            "1234\n",
            "{'이순신': 5678, '임꺽정': 3102}\n",
            "True\n",
            "dict_keys(['이순신', '임꺽정'])\n"
          ],
          "name": "stdout"
        }
      ]
    },
    {
      "cell_type": "code",
      "metadata": {
        "colab": {
          "base_uri": "https://localhost:8080/"
        },
        "id": "L0Upy0z21o_1",
        "outputId": "0c4b5c26-ba75-4f7d-9701-f8e4b2c54a36"
      },
      "source": [
        "#제어문 - if \n",
        "\n",
        "#입력값을 받아 x 변수에 저장하기 \n",
        "x = int(input(\"please enter an integer: \"))\n",
        "\n",
        "if x < 0 :\n",
        "  x = 0\n",
        "  print(\"Negative changed to zero\")\n",
        "elif x== 0: \n",
        "  print('zero')\n",
        "elif x==1:\n",
        "  print('single')\n",
        "else: \n",
        "  print('more')      "
      ],
      "execution_count": null,
      "outputs": [
        {
          "output_type": "stream",
          "text": [
            "please enter an integer: 1\n",
            "single\n"
          ],
          "name": "stdout"
        }
      ]
    },
    {
      "cell_type": "code",
      "metadata": {
        "colab": {
          "base_uri": "https://localhost:8080/"
        },
        "id": "_F_uGImpO4XH",
        "outputId": "e887d5e3-3dd7-444b-eb4f-1f48b2c69332"
      },
      "source": [
        "#제어문 for \n",
        "\n",
        "for i in range(10):\n",
        "  print(i)"
      ],
      "execution_count": null,
      "outputs": [
        {
          "output_type": "stream",
          "text": [
            "0\n",
            "1\n",
            "2\n",
            "3\n",
            "4\n",
            "5\n",
            "6\n",
            "7\n",
            "8\n",
            "9\n"
          ],
          "name": "stdout"
        }
      ]
    },
    {
      "cell_type": "code",
      "metadata": {
        "colab": {
          "base_uri": "https://localhost:8080/"
        },
        "id": "BhrPCPS-PguR",
        "outputId": "3afcd767-bf89-4d24-d746-aa80d5b43f4f"
      },
      "source": [
        "#제어문 for with list\n",
        "\n",
        "words = ['cat', 'window', 'defensetrate']\n",
        "\n",
        "for w in words:\n",
        "    print(w, len(w))"
      ],
      "execution_count": null,
      "outputs": [
        {
          "output_type": "stream",
          "text": [
            "cat 3\n",
            "window 6\n",
            "defensetrate 12\n"
          ],
          "name": "stdout"
        }
      ]
    },
    {
      "cell_type": "code",
      "metadata": {
        "colab": {
          "base_uri": "https://localhost:8080/"
        },
        "id": "pIxQUedhPz7g",
        "outputId": "33fbddca-549b-40bc-ed9c-8778900f8f7e"
      },
      "source": [
        "#제어문 while \n",
        "\n",
        "num = 1\n",
        "while num <= 10:\n",
        "  print(num)\n",
        "  num = num + 1"
      ],
      "execution_count": null,
      "outputs": [
        {
          "output_type": "stream",
          "text": [
            "1\n",
            "2\n",
            "3\n",
            "4\n",
            "5\n",
            "6\n",
            "7\n",
            "8\n",
            "9\n",
            "10\n"
          ],
          "name": "stdout"
        }
      ]
    },
    {
      "cell_type": "code",
      "metadata": {
        "colab": {
          "base_uri": "https://localhost:8080/"
        },
        "id": "QKhIy148RLHX",
        "outputId": "6467cdea-dd41-42c2-adbd-aaacdfddec8a"
      },
      "source": [
        "#제어문 break\n",
        "\n",
        "sizes = [33,35,34,37,32,35,39,32,35,29]\n",
        "for i,size in enumerate(sizes):\n",
        "    if size == 32:\n",
        "        print(\"사이즈 32인 바지는 {}번째에 있다.\".format(i+1))\n",
        "        break"
      ],
      "execution_count": null,
      "outputs": [
        {
          "output_type": "stream",
          "text": [
            "사이즈 32인 바지는 5번째에 있다.\n"
          ],
          "name": "stdout"
        }
      ]
    },
    {
      "cell_type": "code",
      "metadata": {
        "colab": {
          "base_uri": "https://localhost:8080/"
        },
        "id": "g4r0n15SAT7h",
        "outputId": "5658efcb-c165-4e99-89a3-86d257803e26"
      },
      "source": [
        "#제어문 continue\n",
        "\n",
        "numbers = [(1, 2), (10, 0)]\n",
        "\n",
        "for a, b in numbers:\n",
        "    if b == 0:\n",
        "        print(\"0으로 나눌 수는 없습니다.\")\n",
        "        continue\n",
        "        \n",
        "    print(\"{}을(를) {}로 나누면 {}\".format(a, b, a/b))"
      ],
      "execution_count": null,
      "outputs": [
        {
          "output_type": "stream",
          "text": [
            "1을(를) 2로 나누면 0.5\n",
            "0으로 나눌 수는 없습니다.\n"
          ],
          "name": "stdout"
        }
      ]
    },
    {
      "cell_type": "code",
      "metadata": {
        "colab": {
          "base_uri": "https://localhost:8080/"
        },
        "id": "mGGyu5CyDEm0",
        "outputId": "872afc4c-01c0-472d-df97-11623ea033fe"
      },
      "source": [
        "#함수 \n",
        "\n",
        "def add(a, b):\n",
        "  return a + b\n",
        "\n",
        "a = 1\n",
        "b = 2\n",
        "c = add(a, b)\n",
        "print (c)"
      ],
      "execution_count": null,
      "outputs": [
        {
          "output_type": "stream",
          "text": [
            "3\n"
          ],
          "name": "stdout"
        }
      ]
    }
  ]
}