{
  "nbformat": 4,
  "nbformat_minor": 0,
  "metadata": {
    "colab": {
      "name": "Lec01-Python Basic.ipynb",
      "provenance": [],
      "collapsed_sections": [],
      "toc_visible": true,
      "authorship_tag": "ABX9TyMX/j0uKZUXacexD36YTFY2",
      "include_colab_link": true
    },
    "kernelspec": {
      "name": "python3",
      "display_name": "Python 3"
    },
    "language_info": {
      "name": "python"
    }
  },
  "cells": [
    {
      "cell_type": "markdown",
      "metadata": {
        "id": "view-in-github",
        "colab_type": "text"
      },
      "source": [
        "<a href=\"https://colab.research.google.com/github/desunny/example/blob/desunny-steel/Lec01_Python_Basic.ipynb\" target=\"_parent\"><img src=\"https://colab.research.google.com/assets/colab-badge.svg\" alt=\"Open In Colab\"/></a>"
      ]
    },
    {
      "cell_type": "markdown",
      "metadata": {
        "id": "_ispmhiI1Q0_"
      },
      "source": [
        "##  1.파이썬 예약어 리스트 확인하기"
      ]
    },
    {
      "cell_type": "code",
      "metadata": {
        "colab": {
          "base_uri": "https://localhost:8080/"
        },
        "id": "xbPqh9lT8zIU",
        "outputId": "f89ba898-f763-48f7-e2da-f96cdf0461ff"
      },
      "source": [
        "# 파이썬 예약어(키워드) 리스트 확인하기 \n",
        "import keyword \n",
        "print(keyword.kwlist)"
      ],
      "execution_count": null,
      "outputs": [
        {
          "output_type": "stream",
          "text": [
            "['False', 'None', 'True', 'and', 'as', 'assert', 'async', 'await', 'break', 'class', 'continue', 'def', 'del', 'elif', 'else', 'except', 'finally', 'for', 'from', 'global', 'if', 'import', 'in', 'is', 'lambda', 'nonlocal', 'not', 'or', 'pass', 'raise', 'return', 'try', 'while', 'with', 'yield']\n"
          ],
          "name": "stdout"
        }
      ]
    },
    {
      "cell_type": "markdown",
      "metadata": {
        "id": "S2y7GOkk1qGU"
      },
      "source": [
        "## 2.변수와 상수\n",
        "\n"
      ]
    },
    {
      "cell_type": "code",
      "metadata": {
        "colab": {
          "base_uri": "https://localhost:8080/"
        },
        "id": "SN7_nqW29Gbh",
        "outputId": "ea5d26ea-65dc-4f31-83b1-e10d03bb83d4"
      },
      "source": [
        "# 변수와 상수 \n",
        "a = 'hello'\n",
        "b = 1.2\n",
        "\n",
        "print(a)\n",
        "print(b)"
      ],
      "execution_count": null,
      "outputs": [
        {
          "output_type": "stream",
          "text": [
            "hello\n",
            "1.2\n"
          ],
          "name": "stdout"
        }
      ]
    },
    {
      "cell_type": "markdown",
      "metadata": {
        "id": "4TgOactd5Czk"
      },
      "source": [
        "##  3.기본 자료형\n",
        "\n"
      ]
    },
    {
      "cell_type": "code",
      "metadata": {
        "colab": {
          "base_uri": "https://localhost:8080/"
        },
        "id": "2tN8Hl1OAOgz",
        "outputId": "730a7e75-ae0c-4e5b-e716-01323f575d7c"
      },
      "source": [
        "# 기본자료형 숫자\n",
        "c = 10\n",
        "d = 10.3\n",
        "\n",
        "print(type(c), type(d))"
      ],
      "execution_count": null,
      "outputs": [
        {
          "output_type": "stream",
          "text": [
            "<class 'int'> <class 'float'>\n"
          ],
          "name": "stdout"
        }
      ]
    },
    {
      "cell_type": "code",
      "metadata": {
        "colab": {
          "base_uri": "https://localhost:8080/"
        },
        "id": "yjr9tYyagQ65",
        "outputId": "04189d13-9cf2-4b5b-95f7-acb50a6b912a"
      },
      "source": [
        "# 기본자료형 문자 \n",
        "e = '문자열'\n",
        "f = \"문자열 값\"\n",
        "g = \"'이것이 문자다'.\"\n",
        "h = '정말로?'\n",
        "\n",
        "\n",
        "print(e, f, g, h)"
      ],
      "execution_count": 1,
      "outputs": [
        {
          "output_type": "stream",
          "text": [
            "문자열 문자열 값 '이것이 문자다'. 정말로?\n"
          ],
          "name": "stdout"
        }
      ]
    },
    {
      "cell_type": "code",
      "metadata": {
        "colab": {
          "base_uri": "https://localhost:8080/"
        },
        "id": "6ER54o8CgcKJ",
        "outputId": "a1ff8839-3baa-415b-fbc6-85ecefcde3a6"
      },
      "source": [
        "# 기본자료형 논리\n",
        "hungry = True\n",
        "sleepy = False\n",
        "print(type(hungry))\n",
        "print(not hungry)\n",
        "print(hungry and sleepy)\n",
        "print(hungry or sleepy)"
      ],
      "execution_count": 5,
      "outputs": [
        {
          "output_type": "stream",
          "text": [
            "<class 'bool'>\n",
            "False\n",
            "False\n",
            "True\n"
          ],
          "name": "stdout"
        }
      ]
    },
    {
      "cell_type": "code",
      "metadata": {
        "colab": {
          "base_uri": "https://localhost:8080/"
        },
        "id": "zOpi9gmQgFC4",
        "outputId": "0238ffbd-f03f-4d00-f33f-fb62d805cd48"
      },
      "source": [
        "a = 10\n",
        "b = 20 \n",
        "c = 3 \n",
        "\n",
        "print(a +b)\n",
        "print(a-b)\n",
        "print(a*b)\n",
        "print(b/a)\n",
        "print(b%a)\n",
        "print(a**c)\n",
        "print(a//c)"
      ],
      "execution_count": 13,
      "outputs": [
        {
          "output_type": "stream",
          "text": [
            "30\n",
            "-10\n",
            "200\n",
            "2.0\n",
            "0\n",
            "1000\n",
            "3\n"
          ],
          "name": "stdout"
        }
      ]
    },
    {
      "cell_type": "code",
      "metadata": {
        "colab": {
          "base_uri": "https://localhost:8080/"
        },
        "id": "AFeGP6k4gq5d",
        "outputId": "323cb29d-a300-4125-98af-ac8bc608499b"
      },
      "source": [
        "print(a==b)\n",
        "print(a!=b)\n",
        "print(a>b)\n",
        "print(a<b)\n",
        "print(a>=b)\n",
        "print(a<=b)"
      ],
      "execution_count": 19,
      "outputs": [
        {
          "output_type": "stream",
          "text": [
            "False\n",
            "True\n",
            "False\n",
            "True\n",
            "False\n",
            "True\n"
          ],
          "name": "stdout"
        }
      ]
    },
    {
      "cell_type": "code",
      "metadata": {
        "colab": {
          "base_uri": "https://localhost:8080/"
        },
        "id": "v2lDR2q6hRj5",
        "outputId": "932e1df7-04bb-41ef-ec92-d8d03a83f53f"
      },
      "source": [
        "c = a + b\n",
        "print(c)\n",
        "\n",
        "c += a \n",
        "print(c)\n",
        "c -= a\n",
        "print(c)\n",
        "c *= a \n",
        "print(c)\n",
        "c /=a \n",
        "print(c)\n",
        "c %= a\n",
        "print(c)\n",
        "c = 2\n",
        "c**=a \n",
        "print(c)\n",
        "c //=a\n",
        "print(c)"
      ],
      "execution_count": 29,
      "outputs": [
        {
          "output_type": "stream",
          "text": [
            "30\n",
            "40\n",
            "30\n",
            "300\n",
            "30.0\n",
            "0.0\n",
            "1024\n",
            "102\n"
          ],
          "name": "stdout"
        }
      ]
    },
    {
      "cell_type": "code",
      "metadata": {
        "colab": {
          "base_uri": "https://localhost:8080/"
        },
        "id": "aAw6ympJiMZ8",
        "outputId": "f0e06232-512f-4b20-f884-36af19627daf"
      },
      "source": [
        "a = True\n",
        "b = False\n",
        "\n",
        "d = a and b\n",
        "\n",
        "print(d)\n",
        "print((a or b))\n",
        "print(not(a and b))\n",
        "print\n",
        "\n"
      ],
      "execution_count": 37,
      "outputs": [
        {
          "output_type": "stream",
          "text": [
            "False\n",
            "True\n",
            "True\n"
          ],
          "name": "stdout"
        }
      ]
    },
    {
      "cell_type": "markdown",
      "metadata": {
        "id": "8CraumPI9Tyz"
      },
      "source": [
        "## 4.Sequenecs\n"
      ]
    },
    {
      "cell_type": "code",
      "metadata": {
        "colab": {
          "base_uri": "https://localhost:8080/"
        },
        "id": "JevVfP1emlIw",
        "outputId": "a0cfa8c2-2c6e-4b3f-d751-92d1513d14bb"
      },
      "source": [
        "# Sequences String(1)\n",
        "str = 'hello world'\n",
        "\n",
        "for i, chr in enumerate(str):\n",
        "  print(chr, i)\n",
        "\n",
        "\n",
        "print('-----')\n",
        "print(str[0], str[-1])  "
      ],
      "execution_count": 38,
      "outputs": [
        {
          "output_type": "stream",
          "text": [
            "h 0\n",
            "e 1\n",
            "l 2\n",
            "l 3\n",
            "o 4\n",
            "  5\n",
            "w 6\n",
            "o 7\n",
            "r 8\n",
            "l 9\n",
            "d 10\n",
            "-----\n",
            "h d\n"
          ],
          "name": "stdout"
        }
      ]
    },
    {
      "cell_type": "code",
      "metadata": {
        "colab": {
          "base_uri": "https://localhost:8080/"
        },
        "id": "meA0ijJHuQdI",
        "outputId": "3216fd0e-4926-44c3-880f-2e59750ba92a"
      },
      "source": [
        "# Sequences String(2)\n",
        "str = 'hello world'\n",
        "print (str[0:5])\n",
        "print (str[6:])\n",
        "print (str[1:-2]) #-는 뒤에서 부터 오는 것 \n",
        "print (str[1:-1])"
      ],
      "execution_count": 39,
      "outputs": [
        {
          "output_type": "stream",
          "text": [
            "hello\n",
            "world\n",
            "ello wor\n",
            "ello worl\n"
          ],
          "name": "stdout"
        }
      ]
    },
    {
      "cell_type": "code",
      "metadata": {
        "colab": {
          "base_uri": "https://localhost:8080/"
        },
        "id": "Me8G2TglumPG",
        "outputId": "2faf7ec7-ee9a-4a33-d4cd-6c50c325a1c3"
      },
      "source": [
        "# Sequences Tuples\n",
        "\n",
        "t = (1, 'korea', 3, 5, 1)\n",
        "print(t)\n",
        "print('-------')\n",
        "print(len(t))\n",
        "print('-------')\n",
        "\n",
        "for i in t:\n",
        "  print(i)"
      ],
      "execution_count": null,
      "outputs": [
        {
          "output_type": "stream",
          "text": [
            "(1, 'korea', 3, 5, 1)\n",
            "-------\n",
            "5\n",
            "-------\n",
            "1\n",
            "korea\n",
            "3\n",
            "5\n",
            "1\n"
          ],
          "name": "stdout"
        }
      ]
    },
    {
      "cell_type": "code",
      "metadata": {
        "colab": {
          "base_uri": "https://localhost:8080/"
        },
        "id": "7Ug3qTE2y9tN",
        "outputId": "65c71016-f575-4456-af5f-5643fa90a216"
      },
      "source": [
        "# Sequnces - 리스트 (1)\n",
        "a = [1, 3, 5, 'str', True]\n",
        "\n",
        "print(type(a))\n",
        "print('------')\n",
        "print(a[0])\n",
        "print('------')\n",
        "a.append('a')\n",
        "a.append(False)\n",
        "print(a)"
      ],
      "execution_count": null,
      "outputs": [
        {
          "output_type": "stream",
          "text": [
            "<class 'list'>\n",
            "------\n",
            "1\n",
            "------\n",
            "[1, 3, 5, 'str', True, 'a', False]\n"
          ],
          "name": "stdout"
        }
      ]
    },
    {
      "cell_type": "code",
      "metadata": {
        "colab": {
          "base_uri": "https://localhost:8080/"
        },
        "id": "iRDCTBh70FOM",
        "outputId": "9a199b75-a0d9-4ce3-aa24-dbccc80c7ede"
      },
      "source": [
        "# Sequnces - 리스트 (2)\n",
        "\n",
        "b = [ '서울', '인천', '대전', '제주도']\n",
        "print(b.index('제주도'))\n",
        "print('------')\n",
        "print(b[0:2])\n",
        "print('------')\n",
        "del b[1]\n",
        "print(b)\n",
        "b.remove('제주도')\n",
        "print('------')\n",
        "print(b)"
      ],
      "execution_count": null,
      "outputs": [
        {
          "output_type": "stream",
          "text": [
            "3\n",
            "------\n",
            "['서울', '인천']\n",
            "------\n",
            "['서울', '대전', '제주도']\n",
            "------\n",
            "['서울', '대전']\n"
          ],
          "name": "stdout"
        }
      ]
    },
    {
      "cell_type": "code",
      "metadata": {
        "colab": {
          "base_uri": "https://localhost:8080/"
        },
        "id": "uHXFa0U-0cgU",
        "outputId": "4b0aa852-1712-44b2-9ae4-e8a1a0f190e2"
      },
      "source": [
        "# Dictionary\n",
        "\n",
        "tel = {'홍길동':1234, '이순신':5678}\n",
        "# 추가 \n",
        "tel ['임꺽정'] = 3102\n",
        "print(tel)\n",
        "print('------')\n",
        "#순서가 없기 때문에 인ㄷ게스로 접근할 수 없고, 키로 접근 가능\n",
        "print(tel['홍길동'])\n",
        "print('------')\n",
        "#삭제\n",
        "del tel['홍길동']\n",
        "print(tel)\n",
        "print('------')\n",
        "print('이순신' in tel)\n",
        "print('------')\n",
        "print(tel.keys())\n"
      ],
      "execution_count": 40,
      "outputs": [
        {
          "output_type": "stream",
          "text": [
            "{'홍길동': 1234, '이순신': 5678, '임꺽정': 3102}\n",
            "------\n",
            "1234\n",
            "------\n",
            "{'이순신': 5678, '임꺽정': 3102}\n",
            "------\n",
            "True\n",
            "------\n",
            "dict_keys(['이순신', '임꺽정'])\n"
          ],
          "name": "stdout"
        }
      ]
    },
    {
      "cell_type": "markdown",
      "metadata": {
        "id": "6PxduEOw9cAW"
      },
      "source": [
        "## 5.제어문"
      ]
    },
    {
      "cell_type": "code",
      "metadata": {
        "colab": {
          "base_uri": "https://localhost:8080/"
        },
        "id": "L0Upy0z21o_1",
        "outputId": "8a5da792-9c3b-466e-aa10-6fd6a01e6db3"
      },
      "source": [
        "#제어문 - if \n",
        "\n",
        "#입력값을 받아 x 변수에 저장하기 \n",
        "x = int(input(\"please enter an integer: \"))\n",
        "\n",
        "if x < 0 :\n",
        "  x = 0\n",
        "  print(\"Negative changed to zero\")\n",
        "elif x== 0: \n",
        "  print('zero')\n",
        "elif x==1:\n",
        "  print('single')\n",
        "else: \n",
        "  print('more')      "
      ],
      "execution_count": 43,
      "outputs": [
        {
          "output_type": "stream",
          "text": [
            "please enter an integer: 1\n",
            "single\n"
          ],
          "name": "stdout"
        }
      ]
    },
    {
      "cell_type": "code",
      "metadata": {
        "colab": {
          "base_uri": "https://localhost:8080/"
        },
        "id": "_F_uGImpO4XH",
        "outputId": "e887d5e3-3dd7-444b-eb4f-1f48b2c69332"
      },
      "source": [
        "#제어문 for \n",
        "\n",
        "for i in range(10):\n",
        "  print(i)"
      ],
      "execution_count": null,
      "outputs": [
        {
          "output_type": "stream",
          "text": [
            "0\n",
            "1\n",
            "2\n",
            "3\n",
            "4\n",
            "5\n",
            "6\n",
            "7\n",
            "8\n",
            "9\n"
          ],
          "name": "stdout"
        }
      ]
    },
    {
      "cell_type": "code",
      "metadata": {
        "colab": {
          "base_uri": "https://localhost:8080/"
        },
        "id": "BhrPCPS-PguR",
        "outputId": "3afcd767-bf89-4d24-d746-aa80d5b43f4f"
      },
      "source": [
        "#제어문 for with list\n",
        "\n",
        "words = ['cat', 'window', 'defensetrate']\n",
        "\n",
        "for w in words:\n",
        "    print(w, len(w))"
      ],
      "execution_count": null,
      "outputs": [
        {
          "output_type": "stream",
          "text": [
            "cat 3\n",
            "window 6\n",
            "defensetrate 12\n"
          ],
          "name": "stdout"
        }
      ]
    },
    {
      "cell_type": "code",
      "metadata": {
        "colab": {
          "base_uri": "https://localhost:8080/"
        },
        "id": "pIxQUedhPz7g",
        "outputId": "be42c030-5382-42fc-fa60-22de554d99fa"
      },
      "source": [
        "#제어문 while \n",
        "\n",
        "num = 1\n",
        "while num <= 10:\n",
        "  print(num)\n",
        "  num = num + 1"
      ],
      "execution_count": null,
      "outputs": [
        {
          "output_type": "stream",
          "text": [
            "1\n",
            "2\n",
            "3\n",
            "4\n",
            "5\n",
            "6\n",
            "7\n",
            "8\n",
            "9\n",
            "10\n"
          ],
          "name": "stdout"
        }
      ]
    },
    {
      "cell_type": "code",
      "metadata": {
        "colab": {
          "base_uri": "https://localhost:8080/"
        },
        "id": "QKhIy148RLHX",
        "outputId": "6467cdea-dd41-42c2-adbd-aaacdfddec8a"
      },
      "source": [
        "#제어문 break\n",
        "\n",
        "sizes = [33,35,34,37,32,35,39,32,35,29]\n",
        "for i,size in enumerate(sizes):\n",
        "    if size == 32:\n",
        "        print(\"사이즈 32인 바지는 {}번째에 있다.\".format(i+1))\n",
        "        break"
      ],
      "execution_count": null,
      "outputs": [
        {
          "output_type": "stream",
          "text": [
            "사이즈 32인 바지는 5번째에 있다.\n"
          ],
          "name": "stdout"
        }
      ]
    },
    {
      "cell_type": "code",
      "metadata": {
        "colab": {
          "base_uri": "https://localhost:8080/"
        },
        "id": "g4r0n15SAT7h",
        "outputId": "5658efcb-c165-4e99-89a3-86d257803e26"
      },
      "source": [
        "#제어문 continue\n",
        "\n",
        "numbers = [(1, 2), (10, 0)]\n",
        "\n",
        "for a, b in numbers:\n",
        "    if b == 0:\n",
        "        print(\"0으로 나눌 수는 없습니다.\")\n",
        "        continue\n",
        "        \n",
        "    print(\"{}을(를) {}로 나누면 {}\".format(a, b, a/b))"
      ],
      "execution_count": null,
      "outputs": [
        {
          "output_type": "stream",
          "text": [
            "1을(를) 2로 나누면 0.5\n",
            "0으로 나눌 수는 없습니다.\n"
          ],
          "name": "stdout"
        }
      ]
    },
    {
      "cell_type": "code",
      "metadata": {
        "colab": {
          "base_uri": "https://localhost:8080/"
        },
        "id": "mGGyu5CyDEm0",
        "outputId": "872afc4c-01c0-472d-df97-11623ea033fe"
      },
      "source": [
        "#함수 \n",
        "\n",
        "def add(a, b):\n",
        "  return a + b\n",
        "\n",
        "a = 1\n",
        "b = 2\n",
        "c = add(a, b)\n",
        "print (c)"
      ],
      "execution_count": null,
      "outputs": [
        {
          "output_type": "stream",
          "text": [
            "3\n"
          ],
          "name": "stdout"
        }
      ]
    },
    {
      "cell_type": "markdown",
      "metadata": {
        "id": "1XPoLBPFEVeM"
      },
      "source": [
        "## 6.파이썬 연습문제"
      ]
    },
    {
      "cell_type": "markdown",
      "metadata": {
        "id": "wBRrguAMEgl4"
      },
      "source": [
        "1. 에이컨이 월 48,584원에 무이자 36개월의 조건으로 홈쇼핑에서 판매되고 있습니다. 총 금액은 계산한 후 이를 화면에 출력해보세요. (변수사용하기)"
      ]
    },
    {
      "cell_type": "code",
      "metadata": {
        "colab": {
          "base_uri": "https://localhost:8080/"
        },
        "id": "sgfRz14SEmd7",
        "outputId": "68c9ce2c-0923-47d9-9b62-9823b126d988"
      },
      "source": [
        "월 = 48584\n",
        "총금액 = 월 * 36\n",
        "print(총금액)"
      ],
      "execution_count": null,
      "outputs": [
        {
          "output_type": "stream",
          "text": [
            "1749024\n"
          ],
          "name": "stdout"
        }
      ]
    },
    {
      "cell_type": "markdown",
      "metadata": {
        "id": "qtYkoMcuEwEi"
      },
      "source": [
        "2. 아래의 전화번호에서 하이푼 ('-')을 제거하고 출력하세요."
      ]
    },
    {
      "cell_type": "code",
      "metadata": {
        "id": "ys-o_oSVEzxW"
      },
      "source": [
        "phone_number = \"010-1111-2222\"\n",
        "\n",
        "phone_number1 = phone_number.replace(\"-\", \" \")\n",
        "print(phone_number1)"
      ],
      "execution_count": null,
      "outputs": []
    },
    {
      "cell_type": "markdown",
      "metadata": {
        "id": "_IZSaQUmE3L2"
      },
      "source": [
        "3. movie_rank 리스트에는 아래와 같이 네 개의 영화 제목이 바인딩되어 있다. \"슈퍼맨\"을 \"닥터 스트레인지\"와 \"스플릿\" 사이에 추가하라."
      ]
    },
    {
      "cell_type": "code",
      "metadata": {
        "colab": {
          "base_uri": "https://localhost:8080/"
        },
        "id": "Ylg-xHk3FAGL",
        "outputId": "d832c13f-f731-4244-fc2a-8dbfcec48f8a"
      },
      "source": [
        "movie_rank = ['닥터 스트레인지', '스플릿', '럭키', '배트맨']\n",
        "\n",
        "movie_rank.insert(1, \"슈퍼맨\")\n",
        "print(movie_rank)"
      ],
      "execution_count": null,
      "outputs": [
        {
          "output_type": "stream",
          "text": [
            "['닥터 스트레인지', '슈퍼맨', '스플릿', '럭키', '배트맨']\n"
          ],
          "name": "stdout"
        }
      ]
    },
    {
      "cell_type": "markdown",
      "metadata": {
        "id": "zcSs2DqhFaPP"
      },
      "source": [
        "4. 아래의 표에서, 아이스크림 이름을 키값으로, (가격, 재고) 리스트를 딕셔너리의 값으로 저장하라. 딕셔너리의 이름은 inventory로 한다.\n",
        "\n",
        "![image.png](data:image/png;base64,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)"
      ]
    },
    {
      "cell_type": "code",
      "metadata": {
        "id": "_Clv2NErFpOM",
        "colab": {
          "base_uri": "https://localhost:8080/"
        },
        "outputId": "d84ddaf5-20af-4955-ca10-b12cfc887afe"
      },
      "source": [
        "inventory = {\"메로나\": [300, 20], \n",
        "             \"비비빅\": [400, 3], \n",
        "             \"죠스바\": [250, 100]}\n",
        "print(inventory)"
      ],
      "execution_count": null,
      "outputs": [
        {
          "output_type": "stream",
          "text": [
            "{'메로나': [300, 20], '비비빅': [400, 3], '죠스바': [250, 100]}\n"
          ],
          "name": "stdout"
        }
      ]
    },
    {
      "cell_type": "markdown",
      "metadata": {
        "id": "EiWtEc22FzOF"
      },
      "source": [
        "5. 아래 코드의 출력 결과를 예상하라."
      ]
    },
    {
      "cell_type": "code",
      "metadata": {
        "id": "AZxyo3zKF2-z",
        "colab": {
          "base_uri": "https://localhost:8080/"
        },
        "outputId": "70c9fe95-6bed-486e-d19a-623fe2ac1861"
      },
      "source": [
        "if True :\n",
        "    if False:\n",
        "        print(\"1\")\n",
        "        print(\"2\")\n",
        "    else:\n",
        "        print(\"3\")\n",
        "else :\n",
        "    print(\"4\")\n",
        "    \n",
        "print(\"5\")"
      ],
      "execution_count": null,
      "outputs": [
        {
          "output_type": "stream",
          "text": [
            "3\n",
            "5\n"
          ],
          "name": "stdout"
        }
      ]
    },
    {
      "cell_type": "markdown",
      "metadata": {
        "id": "K7fXdk4MGE_P"
      },
      "source": [
        "6. data에는 매수한 종목들의 OHLC (open/high/low/close) 가격 정보가 바인딩 되어있다. 수수료를 0.014 %로 가정할 때, 각 가격에 수수료를 포함한 가격을 한라인에 하나씩 출력하라."
      ]
    },
    {
      "cell_type": "code",
      "metadata": {
        "colab": {
          "base_uri": "https://localhost:8080/"
        },
        "id": "OcqlLrcIGJGw",
        "outputId": "da34c61f-f291-4b45-f04e-105fa2af4e8e"
      },
      "source": [
        "data = [\n",
        "    [ 2000,  3050,  2050,  1980],\n",
        "    [ 7500,  2050,  2050,  1980],\n",
        "    [15450, 15050, 15550, 14900]\n",
        "]\n",
        "\n",
        "for line in data:\n",
        "    for column in line:\n",
        "        print(column * 1.00014)"
      ],
      "execution_count": null,
      "outputs": [
        {
          "output_type": "stream",
          "text": [
            "2000.28\n",
            "3050.427\n",
            "2050.2870000000003\n",
            "1980.2772\n",
            "7501.05\n",
            "2050.2870000000003\n",
            "2050.2870000000003\n",
            "1980.2772\n",
            "15452.163\n",
            "15052.107\n",
            "15552.177\n",
            "14902.086000000001\n"
          ],
          "name": "stdout"
        }
      ]
    },
    {
      "cell_type": "code",
      "metadata": {
        "id": "pwDtacLMgeyZ"
      },
      "source": [
        ""
      ],
      "execution_count": null,
      "outputs": []
    }
  ]
}