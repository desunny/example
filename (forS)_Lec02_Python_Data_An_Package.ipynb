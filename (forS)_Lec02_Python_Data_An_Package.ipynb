{
  "nbformat": 4,
  "nbformat_minor": 0,
  "metadata": {
    "colab": {
      "name": "(forS) Lec02-Python Data An Package.ipynb",
      "provenance": [],
      "collapsed_sections": [
        "A6RnTm1odaGE",
        "DZGTrvbzdfYE"
      ],
      "toc_visible": true,
      "include_colab_link": true
    },
    "kernelspec": {
      "name": "python3",
      "display_name": "Python 3"
    }
  },
  "cells": [
    {
      "cell_type": "markdown",
      "metadata": {
        "id": "view-in-github",
        "colab_type": "text"
      },
      "source": [
        "<a href=\"https://colab.research.google.com/github/desunny/example/blob/desunny-steel/(forS)_Lec02_Python_Data_An_Package.ipynb\" target=\"_parent\"><img src=\"https://colab.research.google.com/assets/colab-badge.svg\" alt=\"Open In Colab\"/></a>"
      ]
    },
    {
      "cell_type": "markdown",
      "metadata": {
        "id": "lvVvFBE4a6l0"
      },
      "source": [
        "\n",
        "##  1 . Numpy 패키지\n",
        " numpy documentation : https://numpy.org/doc/stable\n",
        "\n",
        "\n"
      ]
    },
    {
      "cell_type": "markdown",
      "metadata": {
        "id": "t1QLm0sCdcLD"
      },
      "source": [
        "> ### 1) 배열생성"
      ]
    },
    {
      "cell_type": "code",
      "metadata": {
        "id": "mwA_iiTVa7EB"
      },
      "source": [
        "# numpy 패키지를 np라는 이름으로 사용하기 위해 불러들임\n",
        "import numpy as np"
      ],
      "execution_count": null,
      "outputs": []
    },
    {
      "cell_type": "code",
      "metadata": {
        "id": "TfPKhCk0VZCB",
        "colab": {
          "base_uri": "https://localhost:8080/"
        },
        "outputId": "8b6419e6-d981-47d8-f8c3-eb968bc9e7a5"
      },
      "source": [
        "# np.array()는 리스트, 튜플, 배열로 부터 ndarray를 생성\n",
        "# 리스트를 가지고 1차원 배열을 생성\n",
        "a = np.array([1, 2, 3, 4, 5])\n",
        "print(a)\n",
        "print(type(a))\n",
        "print(a.ndim) # 배열의 차원 출력\n",
        "print(a.shape) # 배열의 모양(크기) 출력"
      ],
      "execution_count": null,
      "outputs": [
        {
          "output_type": "stream",
          "text": [
            "[1 2 3 4 5]\n",
            "<class 'numpy.ndarray'>\n",
            "1\n",
            "(5,)\n"
          ],
          "name": "stdout"
        }
      ]
    },
    {
      "cell_type": "code",
      "metadata": {
        "id": "6lY2_Le7a5bW",
        "colab": {
          "base_uri": "https://localhost:8080/"
        },
        "outputId": "fe7b8338-e215-484c-9041-3e59e0b9cb6e"
      },
      "source": [
        "# 리스트를 가지고 2차원 배열을 생성\n",
        "# array() 안에 하나의 리스트만 들어가므로 리스트안에 리스트를 포함하여 생성\n",
        "b = np.array([[1, 2, 3], [ 4, 5, 6]]) \n",
        "print(b)  \n",
        "print(b.ndim) # 배열의 차원 출력\n",
        "print(b.shape) # 배열의 모양 출력"
      ],
      "execution_count": null,
      "outputs": [
        {
          "output_type": "stream",
          "text": [
            "[[1 2 3]\n",
            " [4 5 6]]\n",
            "2\n",
            "(2, 3)\n"
          ],
          "name": "stdout"
        }
      ]
    },
    {
      "cell_type": "code",
      "metadata": {
        "id": "28JmminSURdb"
      },
      "source": [
        "# 지정해준 범위에 대해 배열을 생성\n",
        "# numpy.arange(start, stop, step, dtype)\n",
        "?np.arange\n",
        "# a = np.arange(n) # 0, ..., n-1까지 범위의 지정.\n",
        "# a = np.arange(i, j, k) # i부터 j-1까지 k씩 증가하는 배열.\n",
        "# numpy의 arange는 Python의 range와 비슷하지만 배열(array)을 반환한다.\n"
      ],
      "execution_count": null,
      "outputs": []
    },
    {
      "cell_type": "code",
      "metadata": {
        "id": "h9U2r6OyUpyX",
        "colab": {
          "base_uri": "https://localhost:8080/"
        },
        "outputId": "2e7a4565-69cb-4ecf-92fb-4f208758fec2"
      },
      "source": [
        "y = np.arange(10) \n",
        "print(y)\n"
      ],
      "execution_count": null,
      "outputs": [
        {
          "output_type": "stream",
          "text": [
            "[0 1 2 3 4 5 6 7 8 9]\n"
          ],
          "name": "stdout"
        }
      ]
    },
    {
      "cell_type": "code",
      "metadata": {
        "id": "wARhHwO5qrIQ",
        "colab": {
          "base_uri": "https://localhost:8080/"
        },
        "outputId": "0dc601ae-b6d8-497b-bfe7-266b1aba98e2"
      },
      "source": [
        "#1부터 19까지 +2씩 적용되는 범위\n",
        "a = np.arange(1, 20, 2) \n",
        "print(a)"
      ],
      "execution_count": null,
      "outputs": [
        {
          "output_type": "stream",
          "text": [
            "[ 1  3  5  7  9 11 13 15 17 19]\n"
          ],
          "name": "stdout"
        }
      ]
    },
    {
      "cell_type": "markdown",
      "metadata": {
        "id": "7WLTV8WvrH8P"
      },
      "source": [
        "#### 배열생성 실습"
      ]
    },
    {
      "cell_type": "code",
      "metadata": {
        "id": "azl9jxEmgNpW"
      },
      "source": [
        "#실습1\n",
        "#1부터 30까지 +3씩 증가시키는 배열을 생성하시오. \n"
      ],
      "execution_count": 1,
      "outputs": []
    },
    {
      "cell_type": "markdown",
      "metadata": {
        "id": "0Ol42Ofgdrlw"
      },
      "source": [
        "> ### 2) 배열초기화\n",
        "  * zeros()는 해당 배열에 모두 0을 삽입\n",
        "  * ones()는 모두 1을 삽입\n",
        "  * zeros_like(), ones_like() 크기를 복사한 배열 생성\n",
        "  * full()은 배열에 사용자가 지정한 값을 넣는데 사용\n",
        "  * eye()는 대각선으로는 1이고 나머지는 0인 2차원 배열을 생성\n",
        "  * random()은 임의의 난수 값으로 채워진 배열을 생성"
      ]
    },
    {
      "cell_type": "code",
      "metadata": {
        "id": "zGZUZAF0dtdb",
        "colab": {
          "base_uri": "https://localhost:8080/"
        },
        "outputId": "6447798b-6d1f-4c2f-a733-5b03444c0196"
      },
      "source": [
        "# 모든값이 0인 2 x 4 배열 생성\n",
        "a = np.zeros((2,4)) \n",
        "print(a)"
      ],
      "execution_count": null,
      "outputs": [
        {
          "output_type": "stream",
          "text": [
            "[[0. 0. 0. 0.]\n",
            " [0. 0. 0. 0.]]\n"
          ],
          "name": "stdout"
        }
      ]
    },
    {
      "cell_type": "code",
      "metadata": {
        "id": "UDbtrjJJeNoX",
        "colab": {
          "base_uri": "https://localhost:8080/"
        },
        "outputId": "872a7cf3-3002-4e71-dc7b-31c50b41895f"
      },
      "source": [
        "# 모든값이 1인 2 x 4 배열 생성\n",
        "a = np.ones((2,4)) \n",
        "print(a)"
      ],
      "execution_count": null,
      "outputs": [
        {
          "output_type": "stream",
          "text": [
            "[[1. 1. 1. 1.]\n",
            " [1. 1. 1. 1.]]\n"
          ],
          "name": "stdout"
        }
      ]
    },
    {
      "cell_type": "code",
      "metadata": {
        "colab": {
          "base_uri": "https://localhost:8080/"
        },
        "id": "bKHzU1_kf7dN",
        "outputId": "a1a6ca8f-29a8-4be0-ef9c-0f4601fc08a8"
      },
      "source": [
        "b = np.zeros_like(a)\n",
        "print(b)"
      ],
      "execution_count": null,
      "outputs": [
        {
          "output_type": "stream",
          "text": [
            "[[0. 0. 0. 0.]\n",
            " [0. 0. 0. 0.]]\n"
          ],
          "name": "stdout"
        }
      ]
    },
    {
      "cell_type": "code",
      "metadata": {
        "colab": {
          "base_uri": "https://localhost:8080/"
        },
        "id": "xq_aznHpgGXM",
        "outputId": "9894505b-993e-47aa-dccf-019ecdc6eac9"
      },
      "source": [
        "c = np.ones_like(b)\n",
        "print(c)"
      ],
      "execution_count": null,
      "outputs": [
        {
          "output_type": "stream",
          "text": [
            "[[1. 1. 1. 1.]\n",
            " [1. 1. 1. 1.]]\n"
          ],
          "name": "stdout"
        }
      ]
    },
    {
      "cell_type": "code",
      "metadata": {
        "id": "N1mBPS6CePbG",
        "colab": {
          "base_uri": "https://localhost:8080/"
        },
        "outputId": "1d907f89-df07-4170-aa72-2f0f6a0ea8d4"
      },
      "source": [
        "# 모든 값이 특정 상수(4)인 배열 생성\n",
        "a = np.full((2, 3),4) \n",
        "print(a)"
      ],
      "execution_count": null,
      "outputs": [
        {
          "output_type": "stream",
          "text": [
            "[[4 4 4]\n",
            " [4 4 4]]\n"
          ],
          "name": "stdout"
        }
      ]
    },
    {
      "cell_type": "code",
      "metadata": {
        "id": "3hq24Ok8eQhP",
        "colab": {
          "base_uri": "https://localhost:8080/"
        },
        "outputId": "65bdf4ee-2a3b-4196-e911-eeb6f532173d"
      },
      "source": [
        "# 대각선으로는 1이고 나머지는 0인 3 * 3 배열을 생성\n",
        "a = np.eye(3) \n",
        "print(a)"
      ],
      "execution_count": null,
      "outputs": [
        {
          "output_type": "stream",
          "text": [
            "[[1. 0. 0.]\n",
            " [0. 1. 0.]\n",
            " [0. 0. 1.]]\n"
          ],
          "name": "stdout"
        }
      ]
    },
    {
      "cell_type": "code",
      "metadata": {
        "id": "NSuuLQdQeTzN",
        "colab": {
          "base_uri": "https://localhost:8080/"
        },
        "outputId": "cfabe95b-47f8-4b3b-ab25-99d87de69c01"
      },
      "source": [
        "# 임의의 값으로 채워진 배열 생성\n",
        "a = np.random.random((2, 4)) \n",
        "print(a)"
      ],
      "execution_count": null,
      "outputs": [
        {
          "output_type": "stream",
          "text": [
            "[[0.77059328 0.15151584 0.51901539 0.99379748]\n",
            " [0.45444371 0.16905378 0.47337233 0.04323431]]\n"
          ],
          "name": "stdout"
        }
      ]
    },
    {
      "cell_type": "markdown",
      "metadata": {
        "id": "JH18UpW8riUC"
      },
      "source": [
        "#### 배열초기화 실습"
      ]
    },
    {
      "cell_type": "code",
      "metadata": {
        "id": "_DywhktyiNTr"
      },
      "source": [
        "# 실습2\n",
        "# 모든 값이 0인 4 x 4 배열, 모든 값이 1인 4 x 4 배열, 모든 값이 15인 4  x 3배열, 대각선이 1이고 나머지는 0인 4x4배열, 모든 값이 임의 값으로 채워진 4x3배열을 생성하시오. \n",
        "\n",
        "\n"
      ],
      "execution_count": 2,
      "outputs": []
    },
    {
      "cell_type": "markdown",
      "metadata": {
        "id": "1275Wi-rq6PZ"
      },
      "source": [
        "> ### 3) 배열 연산\n",
        "배열간 연산은 +, -, *, /의 연산자를 사용할 수 있으며, \n",
        "add(), subtract(), multiply(), divide() 함수를 사용할 수도 있다."
      ]
    },
    {
      "cell_type": "code",
      "metadata": {
        "id": "Es4BDLEcrAPg",
        "colab": {
          "base_uri": "https://localhost:8080/"
        },
        "outputId": "497e62db-f453-48bf-fb60-1fae32572ef8"
      },
      "source": [
        "x = np.array([1,2,3])\n",
        "y = np.array([4,5,6])\n",
        "b = x + y # 각 배열 요소에 대해서 더함\n",
        "print(b)"
      ],
      "execution_count": null,
      "outputs": [
        {
          "output_type": "stream",
          "text": [
            "[5 7 9]\n"
          ],
          "name": "stdout"
        }
      ]
    },
    {
      "cell_type": "code",
      "metadata": {
        "id": "5PGpIj8krPLL",
        "colab": {
          "base_uri": "https://localhost:8080/"
        },
        "outputId": "73583311-d76e-4399-c951-22ccff01ca5f"
      },
      "source": [
        "# add() 함수의 결과도 동일함\n",
        "b = np.add(x, y)\n",
        "print(b)"
      ],
      "execution_count": null,
      "outputs": [
        {
          "output_type": "stream",
          "text": [
            "[5 7 9]\n"
          ],
          "name": "stdout"
        }
      ]
    },
    {
      "cell_type": "markdown",
      "metadata": {
        "id": "AZ7c3x85ruUz"
      },
      "source": [
        "#### 배열연산 실습"
      ]
    },
    {
      "cell_type": "code",
      "metadata": {
        "id": "dBPI_sMjjzO_"
      },
      "source": [
        "#실습3 \n",
        "#모든 값이 1인 5 X 3 배열과 모든 값이 6인 5 X 3 배열을 생성하여 +, -, *, / 연산을 수행하고, add, subtract, multiply, divide 함수를 사용했을 때와 비교하시오.\n",
        "\n",
        "\n"
      ],
      "execution_count": 4,
      "outputs": []
    },
    {
      "cell_type": "markdown",
      "metadata": {
        "id": "9T7LCZjzb0ER"
      },
      "source": [
        "### 4) 배열 인덱싱 & 슬라이싱"
      ]
    },
    {
      "cell_type": "markdown",
      "metadata": {
        "id": "A6RnTm1odaGE"
      },
      "source": [
        "##### 배열 인덱싱"
      ]
    },
    {
      "cell_type": "code",
      "metadata": {
        "id": "e-JD3qmAc_C_"
      },
      "source": [
        "#1차원 array\n",
        "a = np.array([0,1,2,3,4])"
      ],
      "execution_count": null,
      "outputs": []
    },
    {
      "cell_type": "code",
      "metadata": {
        "colab": {
          "base_uri": "https://localhost:8080/"
        },
        "id": "6gvbCGImdFu7",
        "outputId": "6fdb8e02-fb62-45d2-b5dc-3a0cdbc3d962"
      },
      "source": [
        "a[2]"
      ],
      "execution_count": null,
      "outputs": [
        {
          "output_type": "execute_result",
          "data": {
            "text/plain": [
              "2"
            ]
          },
          "metadata": {
            "tags": []
          },
          "execution_count": 80
        }
      ]
    },
    {
      "cell_type": "code",
      "metadata": {
        "colab": {
          "base_uri": "https://localhost:8080/"
        },
        "id": "85N0hGoIdHCD",
        "outputId": "325b6a48-890a-4add-c6ff-089412527ff9"
      },
      "source": [
        "a[-1]"
      ],
      "execution_count": null,
      "outputs": [
        {
          "output_type": "execute_result",
          "data": {
            "text/plain": [
              "4"
            ]
          },
          "metadata": {
            "tags": []
          },
          "execution_count": 81
        }
      ]
    },
    {
      "cell_type": "code",
      "metadata": {
        "colab": {
          "base_uri": "https://localhost:8080/"
        },
        "id": "AXLWImckdNi7",
        "outputId": "c46a3c04-42e1-4e8f-e562-300e32f995ab"
      },
      "source": [
        "#다차원 array\n",
        "a = np.array([[0,1,2], [3,4,5]])\n",
        "a"
      ],
      "execution_count": null,
      "outputs": [
        {
          "output_type": "execute_result",
          "data": {
            "text/plain": [
              "array([[0, 1, 2],\n",
              "       [3, 4, 5]])"
            ]
          },
          "metadata": {
            "tags": []
          },
          "execution_count": 82
        }
      ]
    },
    {
      "cell_type": "code",
      "metadata": {
        "colab": {
          "base_uri": "https://localhost:8080/"
        },
        "id": "Ko5RIODTdikX",
        "outputId": "d3b8409c-19ab-4d74-9dcb-2a0e8d9dc3b2"
      },
      "source": [
        "#첫번째 행의 첫번째 열\n",
        "a[0,0]"
      ],
      "execution_count": null,
      "outputs": [
        {
          "output_type": "execute_result",
          "data": {
            "text/plain": [
              "0"
            ]
          },
          "metadata": {
            "tags": []
          },
          "execution_count": 83
        }
      ]
    },
    {
      "cell_type": "code",
      "metadata": {
        "colab": {
          "base_uri": "https://localhost:8080/"
        },
        "id": "rRJd-3XsdpdP",
        "outputId": "332c06f0-a59e-4a59-a562-9260bed01cfe"
      },
      "source": [
        "#마지막 행의 마지막 열 \n",
        "a[-1, -1]"
      ],
      "execution_count": null,
      "outputs": [
        {
          "output_type": "execute_result",
          "data": {
            "text/plain": [
              "5"
            ]
          },
          "metadata": {
            "tags": []
          },
          "execution_count": 84
        }
      ]
    },
    {
      "cell_type": "code",
      "metadata": {
        "colab": {
          "base_uri": "https://localhost:8080/"
        },
        "id": "lOxpU0gZdu3I",
        "outputId": "91f7c158-17d4-4310-fc91-f3cbcb752b4c"
      },
      "source": [
        "#마지막 행의 마지막에서 두번째 열 \n",
        "a[-1, -2]"
      ],
      "execution_count": null,
      "outputs": [
        {
          "output_type": "execute_result",
          "data": {
            "text/plain": [
              "4"
            ]
          },
          "metadata": {
            "tags": []
          },
          "execution_count": 85
        }
      ]
    },
    {
      "cell_type": "markdown",
      "metadata": {
        "id": "DZGTrvbzdfYE"
      },
      "source": [
        "#### 배열 슬라이싱"
      ]
    },
    {
      "cell_type": "code",
      "metadata": {
        "colab": {
          "base_uri": "https://localhost:8080/"
        },
        "id": "HXNtQbcBb6Af",
        "outputId": "b8004786-232d-4b75-daf7-e36a9d6c621b"
      },
      "source": [
        "a = np.array([[0,1,2,3], [4,5,6,7]])\n",
        "a"
      ],
      "execution_count": null,
      "outputs": [
        {
          "output_type": "execute_result",
          "data": {
            "text/plain": [
              "array([[0, 1, 2, 3],\n",
              "       [4, 5, 6, 7]])"
            ]
          },
          "metadata": {
            "tags": []
          },
          "execution_count": 86
        }
      ]
    },
    {
      "cell_type": "code",
      "metadata": {
        "colab": {
          "base_uri": "https://localhost:8080/"
        },
        "id": "BqHY8cgicC7z",
        "outputId": "8e1ffb16-8b04-465d-f688-c39983744d50"
      },
      "source": [
        "#첫번째 행 전체 \n",
        "a[0, :]"
      ],
      "execution_count": null,
      "outputs": [
        {
          "output_type": "execute_result",
          "data": {
            "text/plain": [
              "array([0, 1, 2, 3])"
            ]
          },
          "metadata": {
            "tags": []
          },
          "execution_count": 87
        }
      ]
    },
    {
      "cell_type": "code",
      "metadata": {
        "colab": {
          "base_uri": "https://localhost:8080/"
        },
        "id": "Psd7cG52cHbs",
        "outputId": "717c24fb-5b4e-436d-ddeb-73059e7a9310"
      },
      "source": [
        "#두번째 열 전체\n",
        "a[:, 1]"
      ],
      "execution_count": null,
      "outputs": [
        {
          "output_type": "execute_result",
          "data": {
            "text/plain": [
              "array([1, 5])"
            ]
          },
          "metadata": {
            "tags": []
          },
          "execution_count": 88
        }
      ]
    },
    {
      "cell_type": "code",
      "metadata": {
        "colab": {
          "base_uri": "https://localhost:8080/"
        },
        "id": "4jN_WabBcNaN",
        "outputId": "4d423db3-c479-4280-993b-93eb9cfaebef"
      },
      "source": [
        "#두번째 행의 두번째 열부터 끝까지\n",
        "\n",
        "a[1, 1:]"
      ],
      "execution_count": null,
      "outputs": [
        {
          "output_type": "execute_result",
          "data": {
            "text/plain": [
              "array([5, 6, 7])"
            ]
          },
          "metadata": {
            "tags": []
          },
          "execution_count": 89
        }
      ]
    },
    {
      "cell_type": "markdown",
      "metadata": {
        "id": "JrZAQDIKccH6"
      },
      "source": [
        "#### 배열 인덱싱 & 슬라이싱 실습"
      ]
    },
    {
      "cell_type": "code",
      "metadata": {
        "id": "k1TJr2AtcbcC"
      },
      "source": [
        "m = np.array([[ 0,  1,  2,  3,  4],\n",
        "            [ 5,  6,  7,  8,  9],\n",
        "            [10, 11, 12, 13, 14]])"
      ],
      "execution_count": null,
      "outputs": []
    },
    {
      "cell_type": "code",
      "metadata": {
        "id": "ce-pVU77cnCo"
      },
      "source": [
        "# 1.값 7 인덱싱을 출력하시오. \n",
        "\n",
        "# 2.값 14 인덱싱을 출력하시오. \n",
        "\n",
        "# 3.배열 [6, 7]슬라이싱을 출력하시오.  \n",
        "\n",
        "# 4. 배열 [7, 12]슬라이싱을 출력하시오. \n",
        "\n",
        "#5. 배열 [[3,4], [8,9]]슬라이싱을 출력하시오. \n"
      ],
      "execution_count": 6,
      "outputs": []
    },
    {
      "cell_type": "markdown",
      "metadata": {
        "id": "eI_IwVXigg2Y"
      },
      "source": [
        "### 5)배열 크기 변형"
      ]
    },
    {
      "cell_type": "code",
      "metadata": {
        "colab": {
          "base_uri": "https://localhost:8080/"
        },
        "id": "mWpLS1VUglQ_",
        "outputId": "95c6b4a8-57a9-42ae-bec9-91d5aceb3c89"
      },
      "source": [
        "a = np.arange(12)\n",
        "print(a)"
      ],
      "execution_count": null,
      "outputs": [
        {
          "output_type": "stream",
          "text": [
            "[ 0  1  2  3  4  5  6  7  8  9 10 11]\n"
          ],
          "name": "stdout"
        }
      ]
    },
    {
      "cell_type": "code",
      "metadata": {
        "colab": {
          "base_uri": "https://localhost:8080/"
        },
        "id": "nHRxNAXwgqxu",
        "outputId": "213f6613-55ff-4d30-b247-1dd0942d201b"
      },
      "source": [
        "b = a.reshape(3,4)\n",
        "print(b)"
      ],
      "execution_count": null,
      "outputs": [
        {
          "output_type": "stream",
          "text": [
            "[[ 0  1  2  3]\n",
            " [ 4  5  6  7]\n",
            " [ 8  9 10 11]]\n"
          ],
          "name": "stdout"
        }
      ]
    },
    {
      "cell_type": "code",
      "metadata": {
        "colab": {
          "base_uri": "https://localhost:8080/"
        },
        "id": "h9OmeKz-g15i",
        "outputId": "631a1b5a-3f9a-4c91-941f-f085f64ec319"
      },
      "source": [
        "c = a.reshape(3, -1)\n",
        "print(c)"
      ],
      "execution_count": null,
      "outputs": [
        {
          "output_type": "stream",
          "text": [
            "[[ 0  1  2  3]\n",
            " [ 4  5  6  7]\n",
            " [ 8  9 10 11]]\n"
          ],
          "name": "stdout"
        }
      ]
    },
    {
      "cell_type": "code",
      "metadata": {
        "colab": {
          "base_uri": "https://localhost:8080/"
        },
        "id": "S5SAnf0umIga",
        "outputId": "0c074acb-a0ea-4774-da73-366022948853"
      },
      "source": [
        "# 배열을 1차원으로 만들기 \n",
        "d = c.flatten()\n",
        "print(d)"
      ],
      "execution_count": null,
      "outputs": [
        {
          "output_type": "stream",
          "text": [
            "[ 0  1  2  3  4  5  6  7  8  9 10 11]\n"
          ],
          "name": "stdout"
        }
      ]
    },
    {
      "cell_type": "markdown",
      "metadata": {
        "id": "-esmECYbmZXa"
      },
      "source": [
        "#### 배열 크기 변형 실습"
      ]
    },
    {
      "cell_type": "code",
      "metadata": {
        "id": "Oh_dCm4mmcpj"
      },
      "source": [
        "#실습 \n",
        "#0에서 30까지 2씩 증가하는 배열을 만들고,행이 2개인 배열을 생성하시오. \n",
        "\n"
      ],
      "execution_count": 7,
      "outputs": []
    },
    {
      "cell_type": "markdown",
      "metadata": {
        "id": "E_3pRWxNn1ej"
      },
      "source": [
        "### 6) 기술통계"
      ]
    },
    {
      "cell_type": "markdown",
      "metadata": {
        "id": "0W5wJgxZn__7"
      },
      "source": [
        "* 데이터의 개수(count)\n",
        "* 평균(mean)\n",
        "* 분산(variance) : 편차(=관측값-평균)의 제곱의 평균 \n",
        "* 표준 편차(standard deviation): 분산에 루트를 씌운 값 (자료의 흩어짐 정도) \n",
        "* 최댓값(maximum)\n",
        "* 최솟값(minimum)\n",
        "* 중앙값(median)\n",
        "* 사분위수(quartile)"
      ]
    },
    {
      "cell_type": "code",
      "metadata": {
        "id": "eMN543SHn39v"
      },
      "source": [
        "x = np.array([18,   5,  10,  23,  19,  -8,  10,   0,   0,   5,   2,  15,   8,\n",
        "              2,   5,   4,  15,  -1,   4,  -7, -24,   7,   9,  -6,  23, -13])"
      ],
      "execution_count": null,
      "outputs": []
    },
    {
      "cell_type": "code",
      "metadata": {
        "colab": {
          "base_uri": "https://localhost:8080/"
        },
        "id": "GPjPID1hn9MI",
        "outputId": "8c78a3f4-f5e0-460f-ee0d-812b729f2156"
      },
      "source": [
        "#데이터의 갯수 \n",
        "len(x)"
      ],
      "execution_count": null,
      "outputs": [
        {
          "output_type": "execute_result",
          "data": {
            "text/plain": [
              "26"
            ]
          },
          "metadata": {
            "tags": []
          },
          "execution_count": 98
        }
      ]
    },
    {
      "cell_type": "code",
      "metadata": {
        "colab": {
          "base_uri": "https://localhost:8080/"
        },
        "id": "THeRFLKAqa3b",
        "outputId": "45661c90-b1be-4ef7-9ecd-ab4ea71960e5"
      },
      "source": [
        "#평균\n",
        "np.mean(x)"
      ],
      "execution_count": null,
      "outputs": [
        {
          "output_type": "execute_result",
          "data": {
            "text/plain": [
              "4.8076923076923075"
            ]
          },
          "metadata": {
            "tags": []
          },
          "execution_count": 99
        }
      ]
    },
    {
      "cell_type": "code",
      "metadata": {
        "colab": {
          "base_uri": "https://localhost:8080/"
        },
        "id": "LYIUUyMmqhCV",
        "outputId": "3aaa0df1-364e-433d-98bc-de92cbff165c"
      },
      "source": [
        "#분산\n",
        "np.var(x)"
      ],
      "execution_count": null,
      "outputs": [
        {
          "output_type": "execute_result",
          "data": {
            "text/plain": [
              "115.23224852071006"
            ]
          },
          "metadata": {
            "tags": []
          },
          "execution_count": 100
        }
      ]
    },
    {
      "cell_type": "code",
      "metadata": {
        "colab": {
          "base_uri": "https://localhost:8080/"
        },
        "id": "ygpcqU0CqkKB",
        "outputId": "38e76b96-35a7-4b6a-ef2a-5392e28e3198"
      },
      "source": [
        "#표준편차\n",
        "np.std(x)"
      ],
      "execution_count": null,
      "outputs": [
        {
          "output_type": "execute_result",
          "data": {
            "text/plain": [
              "10.734628476137871"
            ]
          },
          "metadata": {
            "tags": []
          },
          "execution_count": 101
        }
      ]
    },
    {
      "cell_type": "code",
      "metadata": {
        "colab": {
          "base_uri": "https://localhost:8080/"
        },
        "id": "rnzP8Kabqs_y",
        "outputId": "609ffaa5-b653-45f4-ef25-7d2a60761254"
      },
      "source": [
        "print(np.max(x))\n",
        "print(np.min(x))\n",
        "print(np.median(x)) #중앙값"
      ],
      "execution_count": null,
      "outputs": [
        {
          "output_type": "stream",
          "text": [
            "23\n",
            "-24\n",
            "5.0\n"
          ],
          "name": "stdout"
        }
      ]
    },
    {
      "cell_type": "code",
      "metadata": {
        "colab": {
          "base_uri": "https://localhost:8080/"
        },
        "id": "Fu5s6ob1qze1",
        "outputId": "9b611ebb-6de8-47d7-e14a-4da33552547e"
      },
      "source": [
        "print(np.percentile(x, 0)) #최소값\n",
        "print(np.percentile(x, 25)) #1사분위수\n",
        "print(np.percentile(x, 50)) #2사분위수 (중앙값)\n",
        "print(np.percentile(x, 75)) #3사분위수\n",
        "print(np.percentile(x, 100)) #최댓값\n"
      ],
      "execution_count": null,
      "outputs": [
        {
          "output_type": "stream",
          "text": [
            "-24.0\n",
            "0.0\n",
            "5.0\n",
            "10.0\n",
            "23.0\n"
          ],
          "name": "stdout"
        }
      ]
    },
    {
      "cell_type": "markdown",
      "metadata": {
        "id": "ZbYRLNY8rzNL"
      },
      "source": [
        "#### 기술통계 실습"
      ]
    },
    {
      "cell_type": "markdown",
      "metadata": {
        "id": "RbdQ5_PFsL14"
      },
      "source": [
        "0에서 70까지 2씩 증가하는 배열을 만들어서 아래 기술통계값을 구하시오\n",
        "\n",
        "* 데이터의 개수(count)\n",
        "* 평균(mean)\n",
        "* 분산(variance) : 편차(=관측값-평균)의 제곱의 평균\n",
        "* 표준 편차(standard deviation): 분산에 루트를 씌운 값 (자료의 흩어짐 정도)\n",
        "* 최댓값(maximum)\n",
        "* 최솟값(minimum)\n",
        "* 중앙값(median)\n",
        "* 사분위수(quartile)\n",
        "\n"
      ]
    },
    {
      "cell_type": "code",
      "metadata": {
        "id": "gU7pHYwCryxJ"
      },
      "source": [
        "# 0에서 70까지 2씩 증가하는 배열을 만드시오. \n"
      ],
      "execution_count": 9,
      "outputs": []
    },
    {
      "cell_type": "code",
      "metadata": {
        "id": "D8isKP5KsyV6"
      },
      "source": [
        "# 위에서 생성한 배열의 기술통계값을 구하시오. (갯수, 평균, 분산, 표준편차, 최댓값, 최솟값, 중앙값, 사분위수)\n"
      ],
      "execution_count": 8,
      "outputs": []
    },
    {
      "cell_type": "markdown",
      "metadata": {
        "id": "Iw35yU4Zrd2R"
      },
      "source": [
        "\n",
        "##  2 . Pandas 패키지\n",
        "  pandas documentation : http://pandas.pydata.org/pandas-docs/stable/"
      ]
    },
    {
      "cell_type": "markdown",
      "metadata": {
        "id": "7mep0xFx0vuS"
      },
      "source": [
        "![image.png](data:image/png;base64,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)"
      ]
    },
    {
      "cell_type": "markdown",
      "metadata": {
        "id": "2t6rgmyX2Ac_"
      },
      "source": [
        "1) Series \n",
        " 1차원 배열의 형태를 가진 자료구조 (데이터 객체)"
      ]
    },
    {
      "cell_type": "code",
      "metadata": {
        "id": "L1UskTQ12Vqq"
      },
      "source": [
        "s = pd.Series([1,3,5,np.nan,6,8])"
      ],
      "execution_count": null,
      "outputs": []
    },
    {
      "cell_type": "code",
      "metadata": {
        "colab": {
          "base_uri": "https://localhost:8080/"
        },
        "id": "Tok1QnB62VXX",
        "outputId": "b5a1daa4-f185-462a-f29a-4a1f47d96a93"
      },
      "source": [
        "print(s)"
      ],
      "execution_count": null,
      "outputs": [
        {
          "output_type": "stream",
          "text": [
            "0    1.0\n",
            "1    3.0\n",
            "2    5.0\n",
            "3    NaN\n",
            "4    6.0\n",
            "5    8.0\n",
            "dtype: float64\n"
          ],
          "name": "stdout"
        }
      ]
    },
    {
      "cell_type": "markdown",
      "metadata": {
        "id": "PSsuaUFcsSTS"
      },
      "source": [
        "> ### 1) 데이터 프레임(data frame)\n",
        "데이터프레임은 2차원 테이블의 형태를 가지며 행방향 인덱스(index)와 열방향 칼럼(column)이 존재하는 행과 열을 가지는 자료구조 (데이터 객체)"
      ]
    },
    {
      "cell_type": "code",
      "metadata": {
        "id": "s9rVf2tBrjr4"
      },
      "source": [
        "import pandas as pd"
      ],
      "execution_count": null,
      "outputs": []
    },
    {
      "cell_type": "code",
      "metadata": {
        "id": "CpNxJQZlsIgg",
        "colab": {
          "base_uri": "https://localhost:8080/"
        },
        "outputId": "77c6b67d-edaa-4baf-ae5d-3c6de4c8c4e9"
      },
      "source": [
        "values = [[1, 2, 3], [4, 5, 6], [7, 8, 9]]\n",
        "index = ['첫째행', '둘째행', '셋째행']\n",
        "columns = ['컬럼1', '칼럼2', '칼럼3']\n",
        "\n",
        "df = pd.DataFrame(values, index=index, columns=columns)\n",
        "print(df)"
      ],
      "execution_count": null,
      "outputs": [
        {
          "output_type": "stream",
          "text": [
            "     컬럼1  칼럼2  칼럼3\n",
            "첫째행    1    2    3\n",
            "둘째행    4    5    6\n",
            "셋째행    7    8    9\n"
          ],
          "name": "stdout"
        }
      ]
    },
    {
      "cell_type": "markdown",
      "metadata": {
        "id": "vAQ_LKkmtJy7"
      },
      "source": [
        "> ### 2) 데이터 프레임의 생성\n",
        "데이터프레임은 리스트(List), 딕셔너리(dict), Numpy의 ndarrays, 또 다른 데이터프레임으로 생성할 수 있음"
      ]
    },
    {
      "cell_type": "code",
      "metadata": {
        "id": "XeSODdkHtSB6",
        "colab": {
          "base_uri": "https://localhost:8080/"
        },
        "outputId": "0813c261-8315-496d-958a-389bf6d48f0e"
      },
      "source": [
        "# 리스트로 생성하기\n",
        "data = [\n",
        "    ['100', '이순신', 9.7], \n",
        "    ['101', '강감찬', 8.9], \n",
        "    ['102', '을지문덕', 9.3], \n",
        "    ['103', '김유신', 6.1], \n",
        "]\n",
        "df = pd.DataFrame(data)\n",
        "print(df)"
      ],
      "execution_count": null,
      "outputs": [
        {
          "output_type": "stream",
          "text": [
            "     0     1    2\n",
            "0  100   이순신  9.7\n",
            "1  101   강감찬  8.9\n",
            "2  102  을지문덕  9.3\n",
            "3  103   김유신  6.1\n"
          ],
          "name": "stdout"
        }
      ]
    },
    {
      "cell_type": "code",
      "metadata": {
        "id": "pItgr1iitj16",
        "colab": {
          "base_uri": "https://localhost:8080/"
        },
        "outputId": "1e6ff437-5291-43fe-96f5-38194986784a"
      },
      "source": [
        "# 생성된 데이터프레임에 열(columns)을 지정 \n",
        "df = pd.DataFrame(data, columns=['학번', '이름', '점수'])\n",
        "print(df)"
      ],
      "execution_count": null,
      "outputs": [
        {
          "output_type": "stream",
          "text": [
            "    학번    이름   점수\n",
            "0  100   이순신  9.7\n",
            "1  101   강감찬  8.9\n",
            "2  102  을지문덕  9.3\n",
            "3  103   김유신  6.1\n"
          ],
          "name": "stdout"
        }
      ]
    },
    {
      "cell_type": "code",
      "metadata": {
        "id": "_ABplStHtqKK",
        "colab": {
          "base_uri": "https://localhost:8080/"
        },
        "outputId": "e55e601a-d43d-4180-e160-19ed92ca0072"
      },
      "source": [
        "# 딕셔너리로 생성하기\n",
        "data = { '학번' : ['100', '101', '102', '103'],\n",
        "'이름' : [ '이순신', '강감찬', '을지문덕', '김유신'],\n",
        "         '점수': [9.7, 8.9, 9.3, 6.1,]}\n",
        "\n",
        "df = pd.DataFrame(data)\n",
        "print(df)"
      ],
      "execution_count": null,
      "outputs": [
        {
          "output_type": "stream",
          "text": [
            "    학번    이름   점수\n",
            "0  100   이순신  9.7\n",
            "1  101   강감찬  8.9\n",
            "2  102  을지문덕  9.3\n",
            "3  103   김유신  6.1\n"
          ],
          "name": "stdout"
        }
      ]
    },
    {
      "cell_type": "markdown",
      "metadata": {
        "id": "58gXsz55r6hF"
      },
      "source": [
        "#### 데이터프레임 생성 실습(1)\n"
      ]
    },
    {
      "cell_type": "code",
      "metadata": {
        "id": "SBqq8Wgpmqi0"
      },
      "source": [
        "#실습\n",
        "#리스트를 이용하여 아래와 같은 데이터와 컬럼명을 가진 데이터 프레임을 만드시오.\n",
        "#자동차 아이디 - 100, 101, 102, 103\n",
        "#자동차 이름 - BMW, Benz, 제네시스, 롤스로이스\n",
        "#자동차 가격 - 1000, 1200, 1200, 1500\n"
      ],
      "execution_count": 10,
      "outputs": []
    },
    {
      "cell_type": "markdown",
      "metadata": {
        "id": "oslGJ6ansDOq"
      },
      "source": [
        "#### 데이터프레임 생성 실습(2)\n"
      ]
    },
    {
      "cell_type": "code",
      "metadata": {
        "id": "6vGiGmDoo1M5"
      },
      "source": [
        "#실습\n",
        "#딕셔너리를 이용하여 아래와 같은 데이터와 컬럼명을 가진 데이터 프레임을 만드시오.\n",
        "#자동차 아이디 - 100, 101, 102, 103\n",
        "#자동차 이름 - BMW, Benz, 제네시스, 롤스로이스\n",
        "#자동차 가격 - 1000, 1200, 1200, 1500\n",
        "\n"
      ],
      "execution_count": 11,
      "outputs": []
    },
    {
      "cell_type": "markdown",
      "metadata": {
        "id": "q60M3d0ZuCMx"
      },
      "source": [
        "> ### 3) 데이터 프레임의 접근\n",
        "  * df.head(n) - 앞 부분을 n개만 보기\n",
        "  * df.tail(n) - 뒷 부분을 n개만 보기\n",
        "  * df['열이름'] - 해당되는 열을 확인"
      ]
    },
    {
      "cell_type": "code",
      "metadata": {
        "id": "7Y5PqutuuKCo",
        "colab": {
          "base_uri": "https://localhost:8080/"
        },
        "outputId": "abbc9ffe-1589-4a4f-cb83-9a494b5f852c"
      },
      "source": [
        "print(df.head(3)) # 앞 부분을 3개만 보기\n",
        "print(df.tail(3)) # 뒷 부분을 3개만 보기\n",
        "print(df['학번'],df['점수']) # '학번'에 해당되는 열을 보기"
      ],
      "execution_count": null,
      "outputs": [
        {
          "output_type": "stream",
          "text": [
            "    학번    이름   점수\n",
            "0  100   이순신  9.7\n",
            "1  101   강감찬  8.9\n",
            "2  102  을지문덕  9.3\n",
            "    학번    이름   점수\n",
            "1  101   강감찬  8.9\n",
            "2  102  을지문덕  9.3\n",
            "3  103   김유신  6.1\n",
            "0    100\n",
            "1    101\n",
            "2    102\n",
            "3    103\n",
            "Name: 학번, dtype: object 0    9.7\n",
            "1    8.9\n",
            "2    9.3\n",
            "3    6.1\n",
            "Name: 점수, dtype: float64\n"
          ],
          "name": "stdout"
        }
      ]
    },
    {
      "cell_type": "code",
      "metadata": {
        "colab": {
          "base_uri": "https://localhost:8080/"
        },
        "id": "Otdj9sEI3evU",
        "outputId": "03f0ad72-1f9a-41e4-ac64-11bce2bab1b2"
      },
      "source": [
        "#dataframe 기술통계\n",
        "print(df.describe())"
      ],
      "execution_count": null,
      "outputs": [
        {
          "output_type": "stream",
          "text": [
            "             점수\n",
            "count  4.000000\n",
            "mean   8.500000\n",
            "std    1.632993\n",
            "min    6.100000\n",
            "25%    8.200000\n",
            "50%    9.100000\n",
            "75%    9.400000\n",
            "max    9.700000\n"
          ],
          "name": "stdout"
        }
      ]
    },
    {
      "cell_type": "code",
      "metadata": {
        "colab": {
          "base_uri": "https://localhost:8080/"
        },
        "id": "rLQO2Lii3q1d",
        "outputId": "1a3f4d4f-6466-4d44-cb3e-6010f1ce6be1"
      },
      "source": [
        "#행열 변경 \n",
        "print(df.T)"
      ],
      "execution_count": null,
      "outputs": [
        {
          "output_type": "stream",
          "text": [
            "      0    1     2    3\n",
            "학번  100  101   102  103\n",
            "이름  이순신  강감찬  을지문덕  김유신\n",
            "점수  9.7  8.9   9.3  6.1\n"
          ],
          "name": "stdout"
        }
      ]
    },
    {
      "cell_type": "code",
      "metadata": {
        "colab": {
          "base_uri": "https://localhost:8080/"
        },
        "id": "B65Vg6DO32zb",
        "outputId": "edf843b6-4a82-4b47-9c8f-3988990594fd"
      },
      "source": [
        "#정렬 \n",
        "print(df)\n",
        "print('-------')\n",
        "print(df.sort_index(axis=0, ascending=False)) #index를 기준으로 내림차순 정렬\n",
        "print('-------')\n",
        "print(df.sort_index(axis=1, ascending=True)) #컬럼을 기준으로 오름차순 정렬"
      ],
      "execution_count": null,
      "outputs": [
        {
          "output_type": "stream",
          "text": [
            "    학번    이름   점수\n",
            "0  100   이순신  9.7\n",
            "1  101   강감찬  8.9\n",
            "2  102  을지문덕  9.3\n",
            "3  103   김유신  6.1\n",
            "-------\n",
            "    학번    이름   점수\n",
            "3  103   김유신  6.1\n",
            "2  102  을지문덕  9.3\n",
            "1  101   강감찬  8.9\n",
            "0  100   이순신  9.7\n",
            "-------\n",
            "     이름   점수   학번\n",
            "0   이순신  9.7  100\n",
            "1   강감찬  8.9  101\n",
            "2  을지문덕  9.3  102\n",
            "3   김유신  6.1  103\n"
          ],
          "name": "stdout"
        }
      ]
    },
    {
      "cell_type": "code",
      "metadata": {
        "id": "pgAow7AAxdTA",
        "colab": {
          "base_uri": "https://localhost:8080/"
        },
        "outputId": "3d3a4a87-98ac-4e7e-b472-76769241d5cb"
      },
      "source": [
        "print(df['점수'] > 8) # 점수가 8 이상이면 True 아니면 False"
      ],
      "execution_count": null,
      "outputs": [
        {
          "output_type": "stream",
          "text": [
            "0     True\n",
            "1     True\n",
            "2     True\n",
            "3    False\n",
            "Name: 점수, dtype: bool\n"
          ],
          "name": "stdout"
        }
      ]
    },
    {
      "cell_type": "code",
      "metadata": {
        "id": "yMrcbHCdxt0O",
        "colab": {
          "base_uri": "https://localhost:8080/"
        },
        "outputId": "dac9b0a1-94cf-4fd8-a151-736c6f1b4853"
      },
      "source": [
        "print(df[df['점수'] > 9]) # 점수가 9 이상인 데이터만 출력"
      ],
      "execution_count": null,
      "outputs": [
        {
          "output_type": "stream",
          "text": [
            "    학번    이름   점수\n",
            "0  100   이순신  9.7\n",
            "2  102  을지문덕  9.3\n"
          ],
          "name": "stdout"
        }
      ]
    },
    {
      "cell_type": "markdown",
      "metadata": {
        "id": "C68YfMgwsJp6"
      },
      "source": [
        "#### 데이터프레임 접근 실습"
      ]
    },
    {
      "cell_type": "code",
      "metadata": {
        "id": "eLs7fq704rSX"
      },
      "source": [
        "#실습\n",
        "#앞서 만든 학번-점수 데이터 프레임을 학점이 높은 순으로 sorting 하시오. \n"
      ],
      "execution_count": 12,
      "outputs": []
    },
    {
      "cell_type": "code",
      "metadata": {
        "id": "fISOn2NAqJvo"
      },
      "source": [
        "#실습\n",
        "#앞서 만든 자동차 데이터 프레임 중에서 가격이 1200 이상인 것만 출력하시오. \n"
      ],
      "execution_count": 13,
      "outputs": []
    },
    {
      "cell_type": "markdown",
      "metadata": {
        "id": "UG5bmJyJutrP"
      },
      "source": [
        "\n",
        "##  3 . matplotlib 패키지\n",
        "matplotlib documenation: https://matplotlib.org/stable/contents.html\n"
      ]
    },
    {
      "cell_type": "code",
      "metadata": {
        "id": "d7dTCSxNuQlj"
      },
      "source": [
        "import matplotlib.pyplot as plt"
      ],
      "execution_count": null,
      "outputs": []
    },
    {
      "cell_type": "markdown",
      "metadata": {
        "id": "C3aQJYP_vx5A"
      },
      "source": [
        "> ### 1) 라인 플롯"
      ]
    },
    {
      "cell_type": "markdown",
      "metadata": {
        "id": "4hxrtnKY1Gsn"
      },
      "source": [
        ""
      ]
    },
    {
      "cell_type": "code",
      "metadata": {
        "id": "nSt_LQixv4WA",
        "colab": {
          "base_uri": "https://localhost:8080/",
          "height": 281
        },
        "outputId": "289a9773-dad8-4dda-a41b-af7063114a8c"
      },
      "source": [
        "plt.title('test') # 그래프 제목\n",
        "plt.plot([1,2,3,4],[2,4,8,6]) # X값과 Y값을 정의\n",
        "plt.show()"
      ],
      "execution_count": null,
      "outputs": [
        {
          "output_type": "display_data",
          "data": {
            "image/png": "[encoded data removed]",
            "text/plain": [
              "<Figure size 432x288 with 1 Axes>"
            ]
          },
          "metadata": {
            "tags": [],
            "needs_background": "light"
          }
        }
      ]
    },
    {
      "cell_type": "markdown",
      "metadata": {
        "id": "FsjAdDkqwNsL"
      },
      "source": [
        "> #### 레이블 삽입"
      ]
    },
    {
      "cell_type": "code",
      "metadata": {
        "id": "nFZkhrBEwR_i",
        "colab": {
          "base_uri": "https://localhost:8080/",
          "height": 295
        },
        "outputId": "d716f70e-18c0-4b74-fc3a-f98da62d0836"
      },
      "source": [
        "plt.title('test')\n",
        "plt.plot([1,2,3,4],[2,4,8,6])\n",
        "plt.xlabel('hours') # x축 레이블\n",
        "plt.ylabel('score') # y축 레이블\n",
        "plt.show()"
      ],
      "execution_count": null,
      "outputs": [
        {
          "output_type": "display_data",
          "data": {
            "image/png": "[encoded data removed]",
            "text/plain": [
              "<Figure size 432x288 with 1 Axes>"
            ]
          },
          "metadata": {
            "tags": [],
            "needs_background": "light"
          }
        }
      ]
    },
    {
      "cell_type": "markdown",
      "metadata": {
        "id": "i7I4zC2ewg_M"
      },
      "source": [
        "> #### 범례 삽입"
      ]
    },
    {
      "cell_type": "code",
      "metadata": {
        "id": "lsnekbjDwkRN",
        "colab": {
          "base_uri": "https://localhost:8080/",
          "height": 295
        },
        "outputId": "bdaa26b1-424a-49ef-bf8c-b99219916fc4"
      },
      "source": [
        "plt.title('test')\n",
        "plt.plot([1,2,3,4],[2,4,8,6]) # 라인1\n",
        "plt.plot([1.5,2.5,3.5,4.5],[3,5,8,10]) # 라인2\n",
        "plt.xlabel('hours')\n",
        "plt.ylabel('score')\n",
        "plt.legend(['A', 'B']) # 라인1, 라인2의 범례 삽입\n",
        "plt.show()"
      ],
      "execution_count": null,
      "outputs": [
        {
          "output_type": "display_data",
          "data": {
            "image/png": "[encoded data removed]",
            "text/plain": [
              "<Figure size 432x288 with 1 Axes>"
            ]
          },
          "metadata": {
            "tags": [],
            "needs_background": "light"
          }
        }
      ]
    },
    {
      "cell_type": "markdown",
      "metadata": {
        "id": "mwtMPWdQ6f-l"
      },
      "source": [
        "### 2) 카테고리털 밸류 "
      ]
    },
    {
      "cell_type": "code",
      "metadata": {
        "colab": {
          "base_uri": "https://localhost:8080/",
          "height": 233
        },
        "id": "vbmDiNj86mCr",
        "outputId": "98da72bb-41d4-4917-97a4-01232f7efd8a"
      },
      "source": [
        "names = ['group_a', 'group_b', 'group_c']\n",
        "values = [1, 10, 100]\n",
        "\n",
        "plt.figure(figsize=(9,3)) #figure 객체 생성하기 \n",
        "\n",
        "plt.subplot(131)           # 1 x 3 행렬의 첫번째 그림\n",
        "plt.bar(names, values)\n",
        "\n",
        "plt.subplot(132)\n",
        "plt.scatter(names, values)\n",
        "\n",
        "plt.subplot(133)\n",
        "plt.plot(names, values)\n",
        "\n",
        "plt.suptitle('Categorical plotting')\n",
        "plt.show()"
      ],
      "execution_count": null,
      "outputs": [
        {
          "output_type": "display_data",
          "data": {
            "image/png": "[encoded data removed]",
            "text/plain": [
              "<Figure size 648x216 with 3 Axes>"
            ]
          },
          "metadata": {
            "tags": [],
            "needs_background": "light"
          }
        }
      ]
    },
    {
      "cell_type": "markdown",
      "metadata": {
        "id": "AIHUIJq-sYpn"
      },
      "source": [
        "### 차트생성 실습"
      ]
    },
    {
      "cell_type": "code",
      "metadata": {
        "id": "Ecmi3kH5sddM"
      },
      "source": [
        "#실습\n",
        "#아래의 데이터를 이용하여 라인과 스캐터가 함께 표시되는 차트를 생성하시오. \n",
        "#데이터: smelt_length = [9.8, 10.5, 10.6, 11.0, 11.2 11.3, 11.8, 11.8, 12.0, 12.2, 12.4, 13.0, 14.3, 15.0]\n",
        "#        smelt_weight = [6.7, 7.5, 7.0, 9.7, 9.8, 8.7, 10.0, 9.9, 9.8, 12.2, 13.4, 12.2, 19.7, 19.9]   \n",
        "#label : x축 길이, y축 무게 \n",
        "\n",
        "\n"
      ],
      "execution_count": 14,
      "outputs": []
    },
    {
      "cell_type": "code",
      "metadata": {
        "id": "gPaeGfDxuvTE"
      },
      "source": [
        "#실습\n",
        "#아래의 데이터를 이용하여 라인과 스캐터가 각각 표시되는 차트를 생성하시오. \n",
        "#데이터: smelt_length = [9.8, 10.5, 10.6, 11.0, 11.2 11.3, 11.8, 11.8, 12.0, 12.2, 12.4, 13.0, 14.3, 15.0]\n",
        "#        smelt_weight = [6.7, 7.5, 7.0, 9.7, 9.8, 8.7, 10.0, 9.9, 9.8, 12.2, 13.4, 12.2, 19.7, 19.9]   \n",
        "#label : x축 길이, y축 무게 \n"
      ],
      "execution_count": 15,
      "outputs": []
    },
    {
      "cell_type": "code",
      "metadata": {
        "id": "33dUaL4b-F1G"
      },
      "source": [
        ""
      ],
      "execution_count": null,
      "outputs": []
    }
  ]
}